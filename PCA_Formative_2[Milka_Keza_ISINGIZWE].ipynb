{
  "cells": [
    {
      "cell_type": "markdown",
      "metadata": {
        "id": "JqkivgEHr_KW"
      },
      "source": [
        "# Formative Assignment: Advanced Linear Algebra (PCA)\n",
        "This notebook will guide you through the implementation of Principal Component Analysis (PCA). Fill in the missing code and provide the required answers in the appropriate sections. You will work with a dataset that is Africanized .\n",
        "\n",
        "Make sure to display outputs for each code cell when submitting."
      ]
    },
    {
      "cell_type": "markdown",
      "metadata": {
        "id": "xycIp758r_Kb"
      },
      "source": [
        "### Step 1: Load and Standardize the Data\n",
        "Before applying PCA, we must standardize the dataset. Standardization ensures that all features have a mean of 0 and a standard deviation of 1, which is essential for PCA.\n",
        "Fill in the code to standardize the dataset.\n",
        "\n",
        "STRICTLY - Write code that implements standardization based on the image below\n",
        "\n",
        "<img src='data:image/jpeg;base64,/9j/4AAQSkZJRgABAQAAAQABAAD/2wCEAAkGBw8NEQ4NDxIPDw8RDhAQDxANEA8SDxAQFhIWGBUVGBUkKCgsGBslGxUYIT0hJSs3OjouFyIzOTMtQygtLysBCgoKDg0OGhAQGy8mHSUtKy03LS8tLS0tKy0tMDU3LS0tLS0tLS0tLS02LTItLS0tLS0tLS01LS0tLS0tKy8tLf/AABEIAJ4BPwMBIgACEQEDEQH/xAAcAAEAAgIDAQAAAAAAAAAAAAAABAUGBwECAwj/xABHEAABBAECAQcGCQkHBQAAAAABAAIDBBEFEiEGEyIxQVFhBxQVcYGTMjRCUnShs9HSIzNjgpGSlbHUFiQlU1Ryc0RiZKLB/8QAFwEBAQEBAAAAAAAAAAAAAAAAAAECA//EACERAQEAAgEEAwEBAAAAAAAAAAABAhEhBBITFAMxUUFh/9oADAMBAAIRAxEAPwDeKIiAiIgIiICIiAiIgIiIOHuDQSSAAMkk4AHequDlLp8nOlluo8RY50tniIjycDcc8OJx61hvlxqXpqUYqh7oWyOdcZFkvMe3okj5TAckj1HsKxbkfoei3aeoagI52c1TMdmo+V3NM2MZJva8Yc4OfCHcT15GF3x+KXDutYuVl029Bygoyv5qO1Vkk2udsjnic7a0Zc7APUB2rrV5RUZ3mGK1Wlkax0jmRTRvcGNxlxAPADI/atE8nakNLQ7+qlv97nfJQrv3OGIpAxsmG5xnhIc4z0V4ci2eYTas/qdDoMx9UsrK5A9jn49i6Xp5zq/TPk+m+Byr04wvtC3WNdjwx8rZWmNrzjDSe/iOC7y8ptPZIIH26rZiQBE6eMSbj1DbnIPgvmzkw98zq+lYPN2NSpSvB+Y0Pa7I7i14P6qkalHBZr6vqkvGSXU2x1ME9b3ySy8O0c3t+pa9WS6tSfLbH0pqOr1amDZngrgglvPyxx5A68ZIyvGXlDRZFHZfZrMhkBMcr5o2skA6y0k8fYvn3lzPLalEcxc46dpNSKTcf+odzQk49p3zYP8Axld+U92FreTsU7HTQwaVXmlia7aZBKS4s3fJyGDj3FZnTbk5PL9t/Rco6D4jabaqmBrtrphPHzbXfNLs4B8F60NbqWWPmgsQTRs/OPilY5jO3pEHh7V8/wCt6LLV06tHtbDJqupNnhrxvMjYoGxlsLdxJ3HMzTnPVheVzZRl5RR08io2s2kRuc4GR80TDxPXxbYx4ZT1pZxV8l/H0TBqdeRnOsmhfHkgPZIwsJBwRuzjgeC6u1eqGvkM8AYwgSPMse1hPUHHPDPitB8sdFpwafoweZn6hJRibDVj2bGiSR0r5HDBJJdLtAB4keBXtr3J52m09L0UnFnULjbNsNxtjADY2M9Td2c97CVJ0+N1yeS/jd8HKShIx8rLVV0bHhj5BNHzbXkZDS7OMnuSPlHQcXNbbqOLW73htiI7W5AyePAZcB7VpXkdUry8n9bkmZvYyy6SEFz24mbXj5o8CM9J44FVVvS46+hVZmMPnepWzG47ndKCJ7yxob1DpsYeA7VfXx3rf90eSvoS3rVSCEW5Z4WV3BpbM6RvNuDvg7XfKz4KO/lRp7YI7brVZteR2yOZ0rBG54zloPfwPDwWo4NH9P3Z60kr4dL0iBtdnN7Rgxt2EjORkmN5LsfBa0duVg1iR40yrBglkuoXLMfeWRwQx7sdgyZP3SmPTS8b5L8ln8fTzNYrOmbVbNGZ3Rc82JrgXmLsfj5vipy055FZH3rlq9IDmDT6dJhPHgGgO4+PM5/WW41w+XDsy7W8cu6bERFzaEREBERAREQEREBERAREQEREBERAREQEREGEeUDTNbmlrTaTOyJsbJGyRucG7nOI6RyHB4wAMEcOJ454UumeT23S0nUKkb4pb17YJOkWwsZkAtDsceiXnOOs9S2ii6T5cpNRntm9tRXvJtflpaRpgdXEVeaaa67nH8XySk/k+j0iGOeOOOJUGXyW34xqsdUVo4rTmRVmunkLmV22GyZeSD1tY0YyTxW60W51GaeONQs8mVyC6bsBgLIaTY4GF7t8lhun8w09WGjnADklccifJZYidA/UnRGGtI6aGpC7cHzHb05H46ug3gM/BHHrB2+il6jPWjxxpCz5J788dyxN5u7UJ7bZIyJ5Oaijc57pSTt4klwGMHAHBWEPkutyvsOsvr7BpMdKqGue4iaOCJjXnhwbvY89/S6lt9FfYzPHi0zf8nmsn0RCySs/zCN2yd7nBsbzNvADMEu2BrMHHYO5S9e8l04oV9NpPY977PnF6zYcWGVwYWtwOPAbzgeHE5JK22insZ8HZGmb/k21mW/LfisVoiJneave97nxwty2IbdhDcMwMf8A3ivWfybalesCbU5IbLIab4WFs0ofPKGvdGT0Rtbzj+/qaOC3CivsZnjjUlXyfajDotjSga5sWbzJnkSu5tsQEXAu29eYhwA7VKu8gbkjuT0OYfNtOZE6yd7gXy84x0mxuOI/J9Zx8JbRRTz5HZGmW+TfWGz3q0VmODTrkznzvaQZJIi5xDdmMh2HEYyAfHqVtqvk5lktw8yI2UKulzVYGOkPOPmkimaXEY7XSgkk9bVtBEvz5nZGFeSzkjNo1eaOw6J00s/OHmS5zWsEbWhuSBk5Dj7VmqIueWVyu61JqagiIsqIiICIiAiIgIiICIiAiIgKqv8AKCvXkMEhkEnNukYBFK7ndpYC2PA6b8yM6LePS8Di1WPahpFqaxBbEkAdXmk5qMseWcxJG5ri45yZMlh4YHQx8okWa/qVfNlBaHHoggHp9EjPYR2FBK08A5p9RC87dOKdvNzRxysJBLJWNezI6jgqLW0GlC5skdWrHI05a+OCJr2nGODgOHAqHKRYvRxPghcTvnc9sYDSclrC92T2DDTxPbgdqafejsxtmiJdG4uDSQRna4tJ9WWniqHVK9ifUGcy7m216Dxzj2OLd9mTG5nY57BX6j/mg+BtOTWnvp1a1V5YXQwsizHu2nY0DPHrJxn2rVk0LNERZUREQEREBERARFR0hc9IW+ckjdU82rmGIB2+N+6QF2e3OHZ9TfFWQXiIigIiICIiAiIgIiICIiAiIgIiICIiAiIgLHOWVprWwRA4nfI4wl75GV2YYQ6SYgjcxodnZnpO2jxGRorLpKq+TkDI6sLY3zStLNwksF/PSF3Eudni3JOcdQHAAYwqT0Zc+Za/isn4VlwC5TZp5VmkMYHZ3BjQcu3HOOOXdvrVZYrakXvMdmkyMuOxr6Ez3tb2AuEw3HxwPUrhElNKLzXVf9XQ/h0/9QufNdV/1dD+HT/1Cma9qJqV5bDW845oAjZnaHyOcGsaT2AucBlVWkWbjrs1aeZj2w168rxDAGRmSYzAx5JJG0Rtd19TuK1zraJHmmq/6uh/Dp/6hWOmR2WtIsyQzP3Za6vA+BobgcC0vfk5zxz29SmIs7XQiIooiIgIiICIiAoEPxqf6NW+0sKeoEPxqf6NW+0sKonoiKKIiICIiAiIgIiICIiAiIgIiICIiAiIgIiICIiAiIg87EDJWujka17HAhzXgFrgewhedSlFAHCNjWbnbnkDi92ANzj1uOABk9ykIgIiICIiAiIgIiICIiAoEPxqf6NW+0sKeq+Fw87nGRnzWtw7fzlhEWCIiKIiICIiAiIgIiICIiAiIgIiICIiAiIgIiICIiAiIgIiICIiAiIgIiICIiAiIgoeV2ryVY44awDrtqQQVGuGWh5GXSuHzWNBcfUB2rHv7CxNfLzEkjNQjggmZqDnOM77JfNuMnzmO2gFnVgeCstBHn9+3qR4w1y6hS7jtINmUet42Z7o1fQ/Gp/o1b7SwjVvbxEbktrPn1dsr281Ox7obUPbFYjOHt9WeIPcQrhYnY/w/VI5Rwr6mBDJ3NvRNJjd+vGC31xtWQnUI+dFfpGQ9zXFo4ZwXdQOCDjxHehZ+JaKPHcY5xYCdwznouA4dfHCU7XO850S0skdGQSDnABz9aJpIRERBERAREQEREBERAREQEREBERAREQEREBERAREQEREBERAREQEREBUXLPVX1KrzDxszObWqN77Ep2sPqGS4+DSr1YhRPpS+bfXT090kNY9k1w9GaUd4YOgD3lyNYzlf6BpbKNaCozi2KNrMnrc75Tj4k5PtXMPxqf6NW+0sKeoEXxqb6NX+0nSM3lF5XaSb1SaFh2zDbLWf8yxE4Pid+80ewlccmbsV6CG+1gbJLHiTh0mSDDZGHuIczaf9g7grpYjpf8Ah2o2KZ4V7+65Vz8FtkYFmIevoyAeL0an1plTYGAlwa0OPWQ0An2riCuyPcWjG9xe7iTlx7V6ojIiIgIiICIiAiIgIiICIiAiIgIiICIiAiIgIiICIiAiIgIiICIiAihalq9Wo3fZnhgb3zSMZ/PrVBJywda6Gl1pbjj1WJWugos8TK4Zf6mA+sIslqRyy1ORjIqFU/326TFERxMEWPytg9wa3q/7i1W+jabFTghqwjbFDG1jB24Hae8k8faq7k5yfdWdLbsyec3pwBNNt2sYwfBhib8iMd3aeJ4q+RbeNQUCL41N9Gr/AGk6nqBF8am+jV/tJ0ZT1T8qNE8/hDGv5mxE9s1WcDJhsN+C7xHWCO0EhXCIKPktr3nrJI5W8zdruEduuTxjkxwc3vjcOId3eoq8VByi5PGw9lyrJ5tfiaWxzhu5kjM5MMzflxk+0HiFGocrmse2rqUfmFo8GmQ5qWD3wz9Rz812HeCNWb5jKEXAOVyjIiIgIiICIiAiIgIiICIiAiIgIiICi6lfjqxSWJdwjjaXPLGPkdjwa0En9ilIgqNN5R17UMViPndksbZGZgmztcMjOAR9ak+lof0vuJ/wqY1gHAcB2AcAuyvCcoPpaH9L7if8Kelof0vuJ/wqcihyg+lof0vuJ/wqDq/KaOrGJGwXbRLg3m6taR0nEE5wcDHDv7QrxEWMLby1tSfm9Kugdhsuji/aBuIXH9oNWf8ABqU4PGaa7Kf2NiH81mqKtbn4wnnNVl/OXoa47qWmWHPH60m4f+q49AwS/Gr2r2e8F9mCM/qRtYs2RE7qxbTtF0eq7fFVYJP8x9WaSX99zSfrV2NUh/Se4n/Cp64US21C9Kw/pPcT/hT0rD3ye4n/AAqaiIhelYe+T3E/4VDj1GPziV/5Xaa8LQeYnwXB8pI+D3OH7VOpalFOdsZJPNsl4gjoPc9rT7djlw3UmF2zbPndtya9gNzn523GPHKbjXbXHpWHvk9zP+FPSsPfJ7mb8KianrLoZHMa0ObGyu+XJOS2aYxjb4ja48evgPFXCm4XGybqF6Wh75Pcz/hXhcs1LDHRTM52Nww5kteVzHDxBarTC5VTlg40CvB8Qt6jQHZFEJZaw9UMjXBo8G4XYz6tH8C7VnH/AJOmWmOPtY7H1LNkRe6sKHKDV2ddajN4xTXYvqdEf5rsOVeoj4Wmg/8AHbJH1xhZmiuzf+MLPLK4OvS7R/2zRH7ld6Xr7ZomyTRT1pCXAwyMe9zcEgHLQQc9ftVxhcoWoPpaHvk9zN9yeloe+T3M33KcijPKD6Wh75PczfcnpaHvk9zN9ynIhyg+loe9/uZvuT0tD3v91N9ynIgqNL5SVbc9mpE5/PVy3nWuikaMOaHAhxGDwd1dfgrddWsAyQAMnJwOs95XZWqIiKAiIgIiICIiAiIgIiICIiAiIgIiIC87LXOY9rCGvLHBriMgOI4HHrXoiCt0rSI6vwC8nmo4yXuLstjGG+rgV6N0isHc4IIA/du3iJm7dnOc4689qnIpqNXK272g2tLileJHA7sMDsEgPDH72Bw7cO4+096nIiqboiIiCIiAiIgIiICIiAiIgIiICIiAiIg//9k='/>\n"
      ]
    },
    {
      "cell_type": "code",
      "source": [
        "from google.colab import files\n",
        "uploaded = files.upload()"
      ],
      "metadata": {
        "colab": {
          "base_uri": "https://localhost:8080/",
          "height": 74
        },
        "id": "ZP1OPkaYmQXa",
        "outputId": "c5bab54d-ade8-4732-fdca-bce27c2850a8"
      },
      "execution_count": 5,
      "outputs": [
        {
          "output_type": "display_data",
          "data": {
            "text/plain": [
              "<IPython.core.display.HTML object>"
            ],
            "text/html": [
              "\n",
              "     <input type=\"file\" id=\"files-57c44039-47d3-42a4-8b80-bea796e757f5\" name=\"files[]\" multiple disabled\n",
              "        style=\"border:none\" />\n",
              "     <output id=\"result-57c44039-47d3-42a4-8b80-bea796e757f5\">\n",
              "      Upload widget is only available when the cell has been executed in the\n",
              "      current browser session. Please rerun this cell to enable.\n",
              "      </output>\n",
              "      <script>// Copyright 2017 Google LLC\n",
              "//\n",
              "// Licensed under the Apache License, Version 2.0 (the \"License\");\n",
              "// you may not use this file except in compliance with the License.\n",
              "// You may obtain a copy of the License at\n",
              "//\n",
              "//      http://www.apache.org/licenses/LICENSE-2.0\n",
              "//\n",
              "// Unless required by applicable law or agreed to in writing, software\n",
              "// distributed under the License is distributed on an \"AS IS\" BASIS,\n",
              "// WITHOUT WARRANTIES OR CONDITIONS OF ANY KIND, either express or implied.\n",
              "// See the License for the specific language governing permissions and\n",
              "// limitations under the License.\n",
              "\n",
              "/**\n",
              " * @fileoverview Helpers for google.colab Python module.\n",
              " */\n",
              "(function(scope) {\n",
              "function span(text, styleAttributes = {}) {\n",
              "  const element = document.createElement('span');\n",
              "  element.textContent = text;\n",
              "  for (const key of Object.keys(styleAttributes)) {\n",
              "    element.style[key] = styleAttributes[key];\n",
              "  }\n",
              "  return element;\n",
              "}\n",
              "\n",
              "// Max number of bytes which will be uploaded at a time.\n",
              "const MAX_PAYLOAD_SIZE = 100 * 1024;\n",
              "\n",
              "function _uploadFiles(inputId, outputId) {\n",
              "  const steps = uploadFilesStep(inputId, outputId);\n",
              "  const outputElement = document.getElementById(outputId);\n",
              "  // Cache steps on the outputElement to make it available for the next call\n",
              "  // to uploadFilesContinue from Python.\n",
              "  outputElement.steps = steps;\n",
              "\n",
              "  return _uploadFilesContinue(outputId);\n",
              "}\n",
              "\n",
              "// This is roughly an async generator (not supported in the browser yet),\n",
              "// where there are multiple asynchronous steps and the Python side is going\n",
              "// to poll for completion of each step.\n",
              "// This uses a Promise to block the python side on completion of each step,\n",
              "// then passes the result of the previous step as the input to the next step.\n",
              "function _uploadFilesContinue(outputId) {\n",
              "  const outputElement = document.getElementById(outputId);\n",
              "  const steps = outputElement.steps;\n",
              "\n",
              "  const next = steps.next(outputElement.lastPromiseValue);\n",
              "  return Promise.resolve(next.value.promise).then((value) => {\n",
              "    // Cache the last promise value to make it available to the next\n",
              "    // step of the generator.\n",
              "    outputElement.lastPromiseValue = value;\n",
              "    return next.value.response;\n",
              "  });\n",
              "}\n",
              "\n",
              "/**\n",
              " * Generator function which is called between each async step of the upload\n",
              " * process.\n",
              " * @param {string} inputId Element ID of the input file picker element.\n",
              " * @param {string} outputId Element ID of the output display.\n",
              " * @return {!Iterable<!Object>} Iterable of next steps.\n",
              " */\n",
              "function* uploadFilesStep(inputId, outputId) {\n",
              "  const inputElement = document.getElementById(inputId);\n",
              "  inputElement.disabled = false;\n",
              "\n",
              "  const outputElement = document.getElementById(outputId);\n",
              "  outputElement.innerHTML = '';\n",
              "\n",
              "  const pickedPromise = new Promise((resolve) => {\n",
              "    inputElement.addEventListener('change', (e) => {\n",
              "      resolve(e.target.files);\n",
              "    });\n",
              "  });\n",
              "\n",
              "  const cancel = document.createElement('button');\n",
              "  inputElement.parentElement.appendChild(cancel);\n",
              "  cancel.textContent = 'Cancel upload';\n",
              "  const cancelPromise = new Promise((resolve) => {\n",
              "    cancel.onclick = () => {\n",
              "      resolve(null);\n",
              "    };\n",
              "  });\n",
              "\n",
              "  // Wait for the user to pick the files.\n",
              "  const files = yield {\n",
              "    promise: Promise.race([pickedPromise, cancelPromise]),\n",
              "    response: {\n",
              "      action: 'starting',\n",
              "    }\n",
              "  };\n",
              "\n",
              "  cancel.remove();\n",
              "\n",
              "  // Disable the input element since further picks are not allowed.\n",
              "  inputElement.disabled = true;\n",
              "\n",
              "  if (!files) {\n",
              "    return {\n",
              "      response: {\n",
              "        action: 'complete',\n",
              "      }\n",
              "    };\n",
              "  }\n",
              "\n",
              "  for (const file of files) {\n",
              "    const li = document.createElement('li');\n",
              "    li.append(span(file.name, {fontWeight: 'bold'}));\n",
              "    li.append(span(\n",
              "        `(${file.type || 'n/a'}) - ${file.size} bytes, ` +\n",
              "        `last modified: ${\n",
              "            file.lastModifiedDate ? file.lastModifiedDate.toLocaleDateString() :\n",
              "                                    'n/a'} - `));\n",
              "    const percent = span('0% done');\n",
              "    li.appendChild(percent);\n",
              "\n",
              "    outputElement.appendChild(li);\n",
              "\n",
              "    const fileDataPromise = new Promise((resolve) => {\n",
              "      const reader = new FileReader();\n",
              "      reader.onload = (e) => {\n",
              "        resolve(e.target.result);\n",
              "      };\n",
              "      reader.readAsArrayBuffer(file);\n",
              "    });\n",
              "    // Wait for the data to be ready.\n",
              "    let fileData = yield {\n",
              "      promise: fileDataPromise,\n",
              "      response: {\n",
              "        action: 'continue',\n",
              "      }\n",
              "    };\n",
              "\n",
              "    // Use a chunked sending to avoid message size limits. See b/62115660.\n",
              "    let position = 0;\n",
              "    do {\n",
              "      const length = Math.min(fileData.byteLength - position, MAX_PAYLOAD_SIZE);\n",
              "      const chunk = new Uint8Array(fileData, position, length);\n",
              "      position += length;\n",
              "\n",
              "      const base64 = btoa(String.fromCharCode.apply(null, chunk));\n",
              "      yield {\n",
              "        response: {\n",
              "          action: 'append',\n",
              "          file: file.name,\n",
              "          data: base64,\n",
              "        },\n",
              "      };\n",
              "\n",
              "      let percentDone = fileData.byteLength === 0 ?\n",
              "          100 :\n",
              "          Math.round((position / fileData.byteLength) * 100);\n",
              "      percent.textContent = `${percentDone}% done`;\n",
              "\n",
              "    } while (position < fileData.byteLength);\n",
              "  }\n",
              "\n",
              "  // All done.\n",
              "  yield {\n",
              "    response: {\n",
              "      action: 'complete',\n",
              "    }\n",
              "  };\n",
              "}\n",
              "\n",
              "scope.google = scope.google || {};\n",
              "scope.google.colab = scope.google.colab || {};\n",
              "scope.google.colab._files = {\n",
              "  _uploadFiles,\n",
              "  _uploadFilesContinue,\n",
              "};\n",
              "})(self);\n",
              "</script> "
            ]
          },
          "metadata": {}
        },
        {
          "output_type": "stream",
          "name": "stdout",
          "text": [
            "Saving education_career_success.csv to education_career_success.csv\n"
          ]
        }
      ]
    },
    {
      "cell_type": "code",
      "execution_count": 6,
      "metadata": {
        "id": "BKihXBaBr_Kc",
        "colab": {
          "base_uri": "https://localhost:8080/"
        },
        "outputId": "4d1792d8-daf7-41b5-bcc1-bf5217e4e980"
      },
      "outputs": [
        {
          "output_type": "stream",
          "name": "stdout",
          "text": [
            "Standardized data shape: (400, 14)\n",
            "[[-0.70710678  0.93625954  0.53779965  0.5575722   0.47140452  0.40264413\n",
            "  -0.49266464  0.05142428  0.05127569  0.19207162 -0.08642994  0.15135732\n",
            "  -0.68337361  0.63265604]\n",
            " [ 0.70710678 -0.12918517 -0.07532699 -0.14377648 -0.47140452 -0.65002026\n",
            "   0.29559878 -0.71041691 -0.70836421 -0.54666539 -0.76100511 -0.57807555\n",
            "   0.06348279 -0.44420531]\n",
            " [-1.41421356  1.46898189  1.15092629  1.25892087  1.41421356  1.45530851\n",
            "   1.08386221  0.81326547  0.81091559  0.93080864  1.09407659  0.8807902\n",
            "  -1.43023    -0.44420531]\n",
            " [ 0.         -0.66190753 -0.77604315 -0.84512515 -1.41421356 -1.70268464\n",
            "  -1.28092806 -1.4722581  -1.4680041  -1.2854024  -1.334394   -1.30750843\n",
            "   0.81033919  1.70951739]\n",
            " [ 1.41421356  0.40353718  0.27503109  0.20689786 -0.47140452 -0.12368807\n",
            "  -0.49266464  0.05142428  0.05127569  0.19207162  0.25085764  0.15135732\n",
            "  -0.68337361 -1.52106666]]\n"
          ]
        }
      ],
      "source": [
        "import numpy as np\n",
        "import pandas as pd\n",
        "\n",
        "def standardize_data(file_path):\n",
        "    # Read the CSV file\n",
        "    df = pd.read_csv(file_path)\n",
        "\n",
        "    # Get only numeric columns\n",
        "    numeric_columns = df.select_dtypes(include=[np.number]).columns.tolist()\n",
        "\n",
        "    if not numeric_columns:\n",
        "        raise ValueError(\"No numeric columns found in the dataset\")\n",
        "\n",
        "    # Extract numeric data as numpy array\n",
        "    data = df[numeric_columns].values\n",
        "\n",
        "    # Check for missing values\n",
        "    if np.isnan(data).any():\n",
        "        raise ValueError(\"Dataset has missing values. Handle this before standardization.\")\n",
        "\n",
        "    # Calculate mean and std along each column\n",
        "    mean = np.mean(data, axis=0)\n",
        "    std = np.std(data, axis=0)\n",
        "\n",
        "    # Check for zero standard deviation\n",
        "    if np.any(std == 0):\n",
        "        raise ValueError(\"One or more columns have zero standard deviation\")\n",
        "\n",
        "    # Standardize the data\n",
        "    standardized_data = (data - mean) / std\n",
        "\n",
        "    return standardized_data\n",
        "\n",
        "\n",
        "# Usage (must be at the far left — no indentation)\n",
        "standardized_data = standardize_data('education_career_success.csv')\n",
        "print(\"Standardized data shape:\", standardized_data.shape)\n",
        "print(standardized_data[:5])\n",
        "\n"
      ]
    },
    {
      "cell_type": "markdown",
      "metadata": {
        "id": "Fybn40Syr_Kd"
      },
      "source": [
        "### Step 3: Calculate the Covariance Matrix\n",
        "The covariance matrix helps us understand how the features are related to each other. It is a key component in PCA."
      ]
    },
    {
      "cell_type": "code",
      "execution_count": 7,
      "metadata": {
        "id": "RbklA9tqr_Ke",
        "colab": {
          "base_uri": "https://localhost:8080/"
        },
        "outputId": "dfb6b14c-c948-4fcc-f2c3-7b92d4956383"
      },
      "outputs": [
        {
          "output_type": "execute_result",
          "data": {
            "text/plain": [
              "array([[ 1.00250627,  0.18598557,  0.17788891,  0.17587436,  0.24227235,\n",
              "         0.2052082 ,  0.22211639,  0.17551729,  0.17097145,  0.23958138,\n",
              "         0.20287302,  0.24561283, -0.17471216, -0.13358877],\n",
              "       [ 0.18598557,  1.00250627,  0.9848583 ,  0.98567005,  0.9522713 ,\n",
              "         0.96218025,  0.93917559,  0.96788319,  0.96914347,  0.96878333,\n",
              "         0.95291249,  0.96623073, -0.96301288, -0.80660397],\n",
              "       [ 0.17788891,  0.9848583 ,  1.00250627,  0.98150396,  0.94439452,\n",
              "         0.95658917,  0.93788569,  0.96652463,  0.96656681,  0.96806095,\n",
              "         0.95457118,  0.96979   , -0.95842324, -0.80230238],\n",
              "       [ 0.17587436,  0.98567005,  0.98150396,  1.00250627,  0.94876863,\n",
              "         0.96285101,  0.94046427,  0.97293108,  0.97279039,  0.96781805,\n",
              "         0.95875664,  0.96934156, -0.96494655, -0.83158528],\n",
              "       [ 0.24227235,  0.9522713 ,  0.94439452,  0.94876863,  1.00250627,\n",
              "         0.96261303,  0.97600829,  0.93699231,  0.93787488,  0.96879901,\n",
              "         0.94000622,  0.96435352, -0.94238683, -0.80026032],\n",
              "       [ 0.2052082 ,  0.96218025,  0.95658917,  0.96285101,  0.96261303,\n",
              "         1.00250627,  0.94649669,  0.94501501,  0.94529064,  0.96907074,\n",
              "         0.94533897,  0.96655033, -0.93693449, -0.78948855],\n",
              "       [ 0.22211639,  0.93917559,  0.93788569,  0.94046427,  0.97600829,\n",
              "         0.94649669,  1.00250627,  0.93748392,  0.93777661,  0.97345117,\n",
              "         0.96995607,  0.96389289, -0.92771287, -0.82145956],\n",
              "       [ 0.17551729,  0.96788319,  0.96652463,  0.97293108,  0.93699231,\n",
              "         0.94501501,  0.93748392,  1.00250627,  1.00106002,  0.95913017,\n",
              "         0.95578577,  0.96991593, -0.94587857, -0.82833915],\n",
              "       [ 0.17097145,  0.96914347,  0.96656681,  0.97279039,  0.93787488,\n",
              "         0.94529064,  0.93777661,  1.00106002,  1.00250627,  0.95917173,\n",
              "         0.95540003,  0.96989089, -0.94598933, -0.82799591],\n",
              "       [ 0.23958138,  0.96878333,  0.96806095,  0.96781805,  0.96879901,\n",
              "         0.96907074,  0.97345117,  0.95913017,  0.95917173,  1.00250627,\n",
              "         0.97652786,  0.98915077, -0.94007128, -0.8236296 ],\n",
              "       [ 0.20287302,  0.95291249,  0.95457118,  0.95875664,  0.94000622,\n",
              "         0.94533897,  0.96995607,  0.95578577,  0.95540003,  0.97652786,\n",
              "         1.00250627,  0.96960493, -0.93545129, -0.85466892],\n",
              "       [ 0.24561283,  0.96623073,  0.96979   ,  0.96934156,  0.96435352,\n",
              "         0.96655033,  0.96389289,  0.96991593,  0.96989089,  0.98915077,\n",
              "         0.96960493,  1.00250627, -0.94490937, -0.81652918],\n",
              "       [-0.17471216, -0.96301288, -0.95842324, -0.96494655, -0.94238683,\n",
              "        -0.93693449, -0.92771287, -0.94587857, -0.94598933, -0.94007128,\n",
              "        -0.93545129, -0.94490937,  1.00250627,  0.83454655],\n",
              "       [-0.13358877, -0.80660397, -0.80230238, -0.83158528, -0.80026032,\n",
              "        -0.78948855, -0.82145956, -0.82833915, -0.82799591, -0.8236296 ,\n",
              "        -0.85466892, -0.81652918,  0.83454655,  1.00250627]])"
            ]
          },
          "metadata": {},
          "execution_count": 7
        }
      ],
      "source": [
        "# Step 3: Calculate the Covariance Matrix\n",
        "cov_matrix = np.dot(standardized_data.T, standardized_data) / (standardized_data.shape[0] - 1) # Calculate covariance matrix\n",
        "cov_matrix"
      ]
    },
    {
      "cell_type": "markdown",
      "metadata": {
        "id": "dWzqXsR0r_Ke"
      },
      "source": [
        "### Step 4: Perform Eigendecomposition\n",
        "Eigendecomposition of the covariance matrix will give us the eigenvalues and eigenvectors, which are essential for PCA.\n",
        "Fill in the code to compute the eigenvalues and eigenvectors of the covariance matrix."
      ]
    },
    {
      "cell_type": "code",
      "execution_count": 8,
      "metadata": {
        "id": "8Tm0rzdAr_Ke",
        "colab": {
          "base_uri": "https://localhost:8080/"
        },
        "outputId": "c5428435-fe31-4e45-a01a-8d65a1b1a787"
      },
      "outputs": [
        {
          "output_type": "execute_result",
          "data": {
            "text/plain": [
              "(array([1.38325437e-03, 9.10252847e-03, 1.05998086e-02, 1.56330387e-02,\n",
              "        1.78788578e-02, 2.71640989e-02, 3.26449778e-02, 5.33424328e-02,\n",
              "        5.76989038e-02, 9.08150992e-02, 1.36657528e-01, 2.99365438e-01,\n",
              "        9.71501026e-01, 1.23113007e+01]),\n",
              " array([[ 4.40842649e-03, -4.26389604e-03,  1.01051565e-02,\n",
              "         -9.66161670e-03,  1.85214224e-02,  4.39624051e-02,\n",
              "          6.53759005e-03, -7.01310273e-03, -1.47566555e-03,\n",
              "         -8.38147615e-03, -9.89188831e-02,  6.44094480e-02,\n",
              "         -9.89681855e-01,  6.26349821e-02],\n",
              "        [-4.75507256e-02,  3.60800611e-01,  9.45901870e-02,\n",
              "          6.27873812e-01, -2.04769979e-01,  2.73706278e-01,\n",
              "         -3.53004831e-01, -5.48668174e-02,  1.84374260e-01,\n",
              "         -1.79490612e-01, -2.30622233e-01, -1.44261089e-01,\n",
              "          3.21125972e-02,  2.80500496e-01],\n",
              "        [ 1.54781228e-02, -9.17672230e-02, -6.51410060e-02,\n",
              "         -2.45476910e-01,  6.91344804e-01, -1.25887403e-01,\n",
              "         -3.81939572e-01, -2.02257884e-01,  2.83924977e-01,\n",
              "         -9.20150921e-02, -2.32243729e-01, -1.52727621e-01,\n",
              "          3.97925912e-02,  2.79855463e-01],\n",
              "        [ 2.30410675e-02, -6.98948800e-02,  3.32460264e-02,\n",
              "         -6.41549919e-01, -5.59853109e-01,  2.44839441e-01,\n",
              "         -1.22361188e-01,  8.01762480e-03,  1.89357492e-01,\n",
              "         -1.23752558e-01, -2.39584490e-01, -6.13745629e-02,\n",
              "          4.50577682e-02,  2.81256282e-01],\n",
              "        [-8.80494272e-03, -1.13164540e-01, -5.65440214e-01,\n",
              "          6.56488780e-03, -5.05887312e-02, -2.92988577e-03,\n",
              "         -3.30174315e-01,  2.38129818e-01, -4.08064316e-01,\n",
              "         -2.83338084e-01,  4.00366615e-01, -1.16452126e-01,\n",
              "         -3.73587282e-02,  2.77515188e-01],\n",
              "        [ 3.82766136e-03,  3.42363333e-02,  9.98164619e-02,\n",
              "          9.96585424e-03,  2.33127420e-01,  2.04492078e-01,\n",
              "          4.66354918e-01,  6.24865606e-01,  3.37390341e-01,\n",
              "         -1.87548491e-01,  1.60957835e-01, -1.80575075e-01,\n",
              "          3.70996464e-03,  2.77679697e-01],\n",
              "        [-1.02991074e-03,  2.02249189e-01,  5.56928175e-01,\n",
              "         -1.69840363e-01,  1.31913161e-01,  2.70161468e-01,\n",
              "         -9.14593878e-02, -2.60093471e-01, -2.68278425e-01,\n",
              "          9.97143944e-02,  5.42470401e-01, -1.84021815e-02,\n",
              "         -1.61361340e-02,  2.77287404e-01],\n",
              "        [-7.02568853e-01, -1.14107740e-01,  1.83764510e-02,\n",
              "          1.56784313e-02,  6.66284644e-02,  6.61036172e-02,\n",
              "          7.46964500e-02,  1.53723097e-01, -3.44415768e-01,\n",
              "          3.89129100e-01, -3.20470004e-01, -4.21053039e-02,\n",
              "          4.51924852e-02,  2.79666970e-01],\n",
              "        [ 7.09144338e-01, -6.36777609e-02,  1.50448648e-02,\n",
              "          7.60883859e-02,  5.47209456e-02,  7.08892812e-02,\n",
              "          5.17344947e-02,  1.60311534e-01, -3.49410022e-01,\n",
              "          3.82297952e-01, -3.15658726e-01, -4.54010253e-02,\n",
              "          4.98025437e-02,  2.79690323e-01],\n",
              "        [ 1.13155134e-02, -6.64743167e-01,  2.64731395e-01,\n",
              "          2.69157296e-01, -2.37466102e-01, -3.61374691e-01,\n",
              "         -9.96142892e-02, -2.85055751e-02,  2.55011883e-01,\n",
              "          1.35839425e-01,  2.21477836e-01, -7.08523109e-02,\n",
              "         -2.84103550e-02,  2.81744012e-01],\n",
              "        [ 4.19954225e-03, -9.38382997e-04, -5.12705562e-01,\n",
              "          8.37775359e-02, -1.56991911e-02,  2.74823910e-01,\n",
              "          3.55841902e-01, -4.75874998e-01,  2.80688584e-01,\n",
              "          3.17384730e-01,  1.92532246e-01,  8.05436981e-02,\n",
              "          1.21758967e-02,  2.79315846e-01],\n",
              "        [-1.30522189e-02,  5.78147594e-01, -5.55931879e-02,\n",
              "         -1.17837311e-01, -1.56876166e-01, -6.89945735e-01,\n",
              "          6.64980814e-02,  5.44832733e-02,  8.31122594e-02,\n",
              "          1.94567556e-01,  8.08537839e-02, -9.36832813e-02,\n",
              "         -3.36175321e-02,  2.81717734e-01],\n",
              "        [-6.83181640e-03,  8.52896983e-02, -9.25595151e-02,\n",
              "         -7.13283777e-02, -1.61051874e-03,  2.00041776e-01,\n",
              "         -4.67004836e-01,  3.64668824e-01,  3.17112715e-01,\n",
              "          5.98964962e-01,  2.23917297e-01, -1.45725015e-02,\n",
              "         -4.38200750e-02, -2.76291163e-01],\n",
              "        [ 2.09660831e-03, -3.35615990e-02, -2.39868094e-02,\n",
              "         -1.93597776e-02, -5.78039924e-02,  3.14439165e-02,\n",
              "          1.10950213e-01, -1.69128728e-01, -7.22316610e-02,\n",
              "          7.18287940e-02,  8.75972912e-03, -9.36541585e-01,\n",
              "         -7.54105356e-02, -2.43770685e-01]]))"
            ]
          },
          "metadata": {},
          "execution_count": 8
        }
      ],
      "source": [
        "# Step 4: Perform Eigendecomposition\n",
        "eigenvalues, eigenvectors = np.linalg.eigh(cov_matrix)  # Perform eigendecomposition\n",
        "eigenvalues, eigenvectors"
      ]
    },
    {
      "cell_type": "markdown",
      "metadata": {
        "id": "bp6o_4sTr_Kf"
      },
      "source": [
        "### Step 5: Sort Principal Components\n",
        "Sort the eigenvectors based on their corresponding eigenvalues in descending order. The higher the eigenvalue, the more important the eigenvector.\n",
        "Complete the code to sort the eigenvectors and print the sorted components.\n",
        "\n",
        "<a url ='https://www.youtube.com/watch?v=vaF-1xUEXsA&t=17s'>How Is Explained Variance Used In PCA?'<a/>"
      ]
    },
    {
      "cell_type": "code",
      "execution_count": 9,
      "metadata": {
        "id": "jpfoRz-Xr_Kf",
        "colab": {
          "base_uri": "https://localhost:8080/"
        },
        "outputId": "5b845c3a-43ae-4121-e692-ef59c873355f"
      },
      "outputs": [
        {
          "output_type": "stream",
          "name": "stdout",
          "text": [
            "Variance ratio: [8.77180177e-01 6.92194481e-02 2.13297875e-02 9.73684888e-03\n",
            " 6.47057582e-03 4.11104690e-03 3.80064833e-03 2.32595467e-03\n",
            " 1.93544205e-03 1.27386862e-03 1.11385401e-03 7.55236363e-04\n",
            " 6.48555154e-04 9.85568742e-05]\n"
          ]
        },
        {
          "output_type": "execute_result",
          "data": {
            "text/plain": [
              "array([[ 6.26349821e-02, -9.89681855e-01,  6.44094480e-02,\n",
              "        -9.89188831e-02, -8.38147615e-03, -1.47566555e-03,\n",
              "        -7.01310273e-03,  6.53759005e-03,  4.39624051e-02,\n",
              "         1.85214224e-02, -9.66161670e-03,  1.01051565e-02,\n",
              "        -4.26389604e-03,  4.40842649e-03],\n",
              "       [ 2.80500496e-01,  3.21125972e-02, -1.44261089e-01,\n",
              "        -2.30622233e-01, -1.79490612e-01,  1.84374260e-01,\n",
              "        -5.48668174e-02, -3.53004831e-01,  2.73706278e-01,\n",
              "        -2.04769979e-01,  6.27873812e-01,  9.45901870e-02,\n",
              "         3.60800611e-01, -4.75507256e-02],\n",
              "       [ 2.79855463e-01,  3.97925912e-02, -1.52727621e-01,\n",
              "        -2.32243729e-01, -9.20150921e-02,  2.83924977e-01,\n",
              "        -2.02257884e-01, -3.81939572e-01, -1.25887403e-01,\n",
              "         6.91344804e-01, -2.45476910e-01, -6.51410060e-02,\n",
              "        -9.17672230e-02,  1.54781228e-02],\n",
              "       [ 2.81256282e-01,  4.50577682e-02, -6.13745629e-02,\n",
              "        -2.39584490e-01, -1.23752558e-01,  1.89357492e-01,\n",
              "         8.01762480e-03, -1.22361188e-01,  2.44839441e-01,\n",
              "        -5.59853109e-01, -6.41549919e-01,  3.32460264e-02,\n",
              "        -6.98948800e-02,  2.30410675e-02],\n",
              "       [ 2.77515188e-01, -3.73587282e-02, -1.16452126e-01,\n",
              "         4.00366615e-01, -2.83338084e-01, -4.08064316e-01,\n",
              "         2.38129818e-01, -3.30174315e-01, -2.92988577e-03,\n",
              "        -5.05887312e-02,  6.56488780e-03, -5.65440214e-01,\n",
              "        -1.13164540e-01, -8.80494272e-03],\n",
              "       [ 2.77679697e-01,  3.70996464e-03, -1.80575075e-01,\n",
              "         1.60957835e-01, -1.87548491e-01,  3.37390341e-01,\n",
              "         6.24865606e-01,  4.66354918e-01,  2.04492078e-01,\n",
              "         2.33127420e-01,  9.96585424e-03,  9.98164619e-02,\n",
              "         3.42363333e-02,  3.82766136e-03],\n",
              "       [ 2.77287404e-01, -1.61361340e-02, -1.84021815e-02,\n",
              "         5.42470401e-01,  9.97143944e-02, -2.68278425e-01,\n",
              "        -2.60093471e-01, -9.14593878e-02,  2.70161468e-01,\n",
              "         1.31913161e-01, -1.69840363e-01,  5.56928175e-01,\n",
              "         2.02249189e-01, -1.02991074e-03],\n",
              "       [ 2.79666970e-01,  4.51924852e-02, -4.21053039e-02,\n",
              "        -3.20470004e-01,  3.89129100e-01, -3.44415768e-01,\n",
              "         1.53723097e-01,  7.46964500e-02,  6.61036172e-02,\n",
              "         6.66284644e-02,  1.56784313e-02,  1.83764510e-02,\n",
              "        -1.14107740e-01, -7.02568853e-01],\n",
              "       [ 2.79690323e-01,  4.98025437e-02, -4.54010253e-02,\n",
              "        -3.15658726e-01,  3.82297952e-01, -3.49410022e-01,\n",
              "         1.60311534e-01,  5.17344947e-02,  7.08892812e-02,\n",
              "         5.47209456e-02,  7.60883859e-02,  1.50448648e-02,\n",
              "        -6.36777609e-02,  7.09144338e-01],\n",
              "       [ 2.81744012e-01, -2.84103550e-02, -7.08523109e-02,\n",
              "         2.21477836e-01,  1.35839425e-01,  2.55011883e-01,\n",
              "        -2.85055751e-02, -9.96142892e-02, -3.61374691e-01,\n",
              "        -2.37466102e-01,  2.69157296e-01,  2.64731395e-01,\n",
              "        -6.64743167e-01,  1.13155134e-02],\n",
              "       [ 2.79315846e-01,  1.21758967e-02,  8.05436981e-02,\n",
              "         1.92532246e-01,  3.17384730e-01,  2.80688584e-01,\n",
              "        -4.75874998e-01,  3.55841902e-01,  2.74823910e-01,\n",
              "        -1.56991911e-02,  8.37775359e-02, -5.12705562e-01,\n",
              "        -9.38382997e-04,  4.19954225e-03],\n",
              "       [ 2.81717734e-01, -3.36175321e-02, -9.36832813e-02,\n",
              "         8.08537839e-02,  1.94567556e-01,  8.31122594e-02,\n",
              "         5.44832733e-02,  6.64980814e-02, -6.89945735e-01,\n",
              "        -1.56876166e-01, -1.17837311e-01, -5.55931879e-02,\n",
              "         5.78147594e-01, -1.30522189e-02],\n",
              "       [-2.76291163e-01, -4.38200750e-02, -1.45725015e-02,\n",
              "         2.23917297e-01,  5.98964962e-01,  3.17112715e-01,\n",
              "         3.64668824e-01, -4.67004836e-01,  2.00041776e-01,\n",
              "        -1.61051874e-03, -7.13283777e-02, -9.25595151e-02,\n",
              "         8.52896983e-02, -6.83181640e-03],\n",
              "       [-2.43770685e-01, -7.54105356e-02, -9.36541585e-01,\n",
              "         8.75972912e-03,  7.18287940e-02, -7.22316610e-02,\n",
              "        -1.69128728e-01,  1.10950213e-01,  3.14439165e-02,\n",
              "        -5.78039924e-02, -1.93597776e-02, -2.39868094e-02,\n",
              "        -3.35615990e-02,  2.09660831e-03]])"
            ]
          },
          "metadata": {},
          "execution_count": 9
        }
      ],
      "source": [
        "# Step 5: Sort Principal Components\n",
        "sorted_indices = np.argsort(eigenvalues) [::-1]  # Sort eigenvalues in descending order\n",
        "sorted_eigenvalues = eigenvalues[sorted_indices]\n",
        "sorted_eigenvectors = eigenvectors[:, sorted_indices]  # Sort eigenvectors accordingly\n",
        "\n",
        "#Print the explained variance ratio\n",
        "explained_variance_ratio = sorted_eigenvalues / np.sum(sorted_eigenvalues)\n",
        "print(\"Variance ratio:\", explained_variance_ratio)\n",
        "\n",
        "sorted_eigenvectors"
      ]
    },
    {
      "cell_type": "markdown",
      "metadata": {
        "id": "uxbmuO27r_Kg"
      },
      "source": [
        "### Step 6: Project Data onto Principal Components\n",
        "Now that we’ve selected the number of components, we will project the original data onto the chosen principal components.\n",
        "Fill in the code to perform the projection."
      ]
    },
    {
      "cell_type": "code",
      "execution_count": 10,
      "metadata": {
        "id": "ubjIMAtWr_Kg",
        "colab": {
          "base_uri": "https://localhost:8080/"
        },
        "outputId": "ed34200e-f3ea-484b-b77b-3394619fafd1"
      },
      "outputs": [
        {
          "output_type": "stream",
          "name": "stdout",
          "text": [
            "Number of components needed to explain 95% of variance: 3\n"
          ]
        },
        {
          "output_type": "execute_result",
          "data": {
            "text/plain": [
              "array([[ 0.76760071,  0.74374906, -1.03729843],\n",
              "       [-1.118312  , -0.71397462,  0.76010211],\n",
              "       [ 3.87042981,  1.61496987, -0.69802035],\n",
              "       [-4.42716239, -0.26287383, -0.61651328],\n",
              "       [ 0.79030274, -1.1992575 ,  1.48689211]])"
            ]
          },
          "metadata": {},
          "execution_count": 10
        }
      ],
      "source": [
        "# Step 6: Project Data onto Principal Components\n",
        "#Determine the number of components to keep based on explained\n",
        "cumulative_variance_ratio = np.cumsum(explained_variance_ratio)\n",
        "num_components = np.argmax(cumulative_variance_ratio >= 0.95) + 1 # Keep 95% of variance\n",
        "print(f\"Number of components needed to explain 95% of variance: {num_components}\")\n",
        "\n",
        "#Project data onto the principal components\n",
        "reduced_data = np.dot(standardized_data, sorted_eigenvectors[:, :num_components])  # Project data onto the principal components\n",
        "reduced_data[:5] # Display first 5 rows of transform"
      ]
    },
    {
      "cell_type": "markdown",
      "metadata": {
        "id": "XVq-b6vtr_Kg"
      },
      "source": [
        "### Step 7: Output the Reduced Data\n",
        "Finally, display the reduced data obtained by projecting the original dataset onto the selected principal components."
      ]
    },
    {
      "cell_type": "code",
      "execution_count": 11,
      "metadata": {
        "id": "5D0uzRyPr_Kg",
        "colab": {
          "base_uri": "https://localhost:8080/"
        },
        "outputId": "dba3a570-4d9b-45de-aa1c-b9574301faab"
      },
      "outputs": [
        {
          "output_type": "stream",
          "name": "stdout",
          "text": [
            "Reduced Data Shape: (400, 3)\n"
          ]
        },
        {
          "output_type": "execute_result",
          "data": {
            "text/plain": [
              "array([[ 0.76760071,  0.74374906, -1.03729843],\n",
              "       [-1.118312  , -0.71397462,  0.76010211],\n",
              "       [ 3.87042981,  1.61496987, -0.69802035],\n",
              "       [-4.42716239, -0.26287383, -0.61651328],\n",
              "       [ 0.79030274, -1.1992575 ,  1.48689211]])"
            ]
          },
          "metadata": {},
          "execution_count": 11
        }
      ],
      "source": [
        "# Step 7: Output the Reduced Data\n",
        "print(f'Reduced Data Shape: {reduced_data.shape}')  # Display reduced data shape\n",
        "reduced_data[:5]  # Display the first few rows of reduced data"
      ]
    },
    {
      "cell_type": "markdown",
      "metadata": {
        "id": "S1f8ROm5r_Kg"
      },
      "source": [
        "### Step 8: Visualize Before and After PCA\n",
        "Now, let's plot the original data and the data after PCA to compare the reduction in dimensions visually."
      ]
    },
    {
      "cell_type": "code",
      "execution_count": 12,
      "metadata": {
        "id": "WwuppWV-r_Kg",
        "colab": {
          "base_uri": "https://localhost:8080/",
          "height": 607
        },
        "outputId": "84319944-214c-4ed8-87b1-cb2f2a801eff"
      },
      "outputs": [
        {
          "output_type": "display_data",
          "data": {
            "text/plain": [
              "<Figure size 1200x600 with 2 Axes>"
            ],
            "image/png": "[encoded data removed]"
          },
          "metadata": {}
        }
      ],
      "source": [
        "# Step 8: Visualize Before and After PCA\n",
        "import matplotlib.pyplot as plt\n",
        "\n",
        "#Create a figure with two subplots side by side\n",
        "plt.figure(figsize=(12, 6))\n",
        "\n",
        "# Plot original data (first two features for simplicity)\n",
        "plt.subplot(1, 2, 1)\n",
        "plt.scatter(standardized_data[:, 0], standardized_data[:, 1], alpha=0.5)\n",
        "plt.title('Original Data\\n(First Two Features)')\n",
        "plt.xlabel('Feature 1')\n",
        "plt.ylabel('Feature 2')\n",
        "\n",
        "# Plot reduced data after PCA\n",
        "plt.subplot(1, 2, 2)\n",
        "plt.scatter(reduced_data[:, 0], reduced_data[:, 1], alpha=0.5)\n",
        "plt.title('Data After PCA\\n (First Two Principal Components)')\n",
        "plt.xlabel('Principal Component 1')\n",
        "plt.ylabel('Principal Component 2')\n",
        "\n",
        "plt.tight_layout()\n",
        "plt.show()"
      ]
    }
  ],
  "metadata": {
    "kernelspec": {
      "display_name": "Python 3",
      "name": "python3"
    },
    "language_info": {
      "name": "python",
      "version": "3.8.8"
    },
    "colab": {
      "provenance": []
    }
  },
  "nbformat": 4,
  "nbformat_minor": 0
}